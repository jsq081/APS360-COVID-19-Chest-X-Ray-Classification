{
  "nbformat": 4,
  "nbformat_minor": 0,
  "metadata": {
    "accelerator": "GPU",
    "colab": {
      "name": "APS360 Project.ipynb",
      "provenance": [],
      "collapsed_sections": []
    },
    "kernelspec": {
      "display_name": "Python 3",
      "name": "python3"
    },
    "language_info": {
      "name": "python"
    },
    "widgets": {
      "application/vnd.jupyter.widget-state+json": {
        "2e7819ff091949a0b77a9d914dfa8bd2": {
          "model_module": "@jupyter-widgets/controls",
          "model_name": "HBoxModel",
          "model_module_version": "1.5.0",
          "state": {
            "_view_name": "HBoxView",
            "_dom_classes": [],
            "_model_name": "HBoxModel",
            "_view_module": "@jupyter-widgets/controls",
            "_model_module_version": "1.5.0",
            "_view_count": null,
            "_view_module_version": "1.5.0",
            "box_style": "",
            "layout": "IPY_MODEL_086b29e5cd9f487e8f09f322bba4ada5",
            "_model_module": "@jupyter-widgets/controls",
            "children": [
              "IPY_MODEL_8de6a5c9990140268aa914d5d88735b4",
              "IPY_MODEL_9fc0e0cc1ad044b699090ef8e404083d"
            ]
          }
        },
        "086b29e5cd9f487e8f09f322bba4ada5": {
          "model_module": "@jupyter-widgets/base",
          "model_name": "LayoutModel",
          "model_module_version": "1.2.0",
          "state": {
            "_view_name": "LayoutView",
            "grid_template_rows": null,
            "right": null,
            "justify_content": null,
            "_view_module": "@jupyter-widgets/base",
            "overflow": null,
            "_model_module_version": "1.2.0",
            "_view_count": null,
            "flex_flow": null,
            "width": null,
            "min_width": null,
            "border": null,
            "align_items": null,
            "bottom": null,
            "_model_module": "@jupyter-widgets/base",
            "top": null,
            "grid_column": null,
            "overflow_y": null,
            "overflow_x": null,
            "grid_auto_flow": null,
            "grid_area": null,
            "grid_template_columns": null,
            "flex": null,
            "_model_name": "LayoutModel",
            "justify_items": null,
            "grid_row": null,
            "max_height": null,
            "align_content": null,
            "visibility": null,
            "align_self": null,
            "height": null,
            "min_height": null,
            "padding": null,
            "grid_auto_rows": null,
            "grid_gap": null,
            "max_width": null,
            "order": null,
            "_view_module_version": "1.2.0",
            "grid_template_areas": null,
            "object_position": null,
            "object_fit": null,
            "grid_auto_columns": null,
            "margin": null,
            "display": null,
            "left": null
          }
        },
        "8de6a5c9990140268aa914d5d88735b4": {
          "model_module": "@jupyter-widgets/controls",
          "model_name": "FloatProgressModel",
          "model_module_version": "1.5.0",
          "state": {
            "_view_name": "ProgressView",
            "style": "IPY_MODEL_0c3a350b95fb4b82abc26815bcaaa21b",
            "_dom_classes": [],
            "description": "100%",
            "_model_name": "FloatProgressModel",
            "bar_style": "success",
            "max": 46830571,
            "_view_module": "@jupyter-widgets/controls",
            "_model_module_version": "1.5.0",
            "value": 46830571,
            "_view_count": null,
            "_view_module_version": "1.5.0",
            "orientation": "horizontal",
            "min": 0,
            "description_tooltip": null,
            "_model_module": "@jupyter-widgets/controls",
            "layout": "IPY_MODEL_9f0ff3845fac4db598314f9829141958"
          }
        },
        "9fc0e0cc1ad044b699090ef8e404083d": {
          "model_module": "@jupyter-widgets/controls",
          "model_name": "HTMLModel",
          "model_module_version": "1.5.0",
          "state": {
            "_view_name": "HTMLView",
            "style": "IPY_MODEL_ed43c08d4333475e9a74f320e987a506",
            "_dom_classes": [],
            "description": "",
            "_model_name": "HTMLModel",
            "placeholder": "​",
            "_view_module": "@jupyter-widgets/controls",
            "_model_module_version": "1.5.0",
            "value": " 44.7M/44.7M [00:04&lt;00:00, 9.77MB/s]",
            "_view_count": null,
            "_view_module_version": "1.5.0",
            "description_tooltip": null,
            "_model_module": "@jupyter-widgets/controls",
            "layout": "IPY_MODEL_fa7e091ab4ac4ccb9acd6340f5f2f614"
          }
        },
        "0c3a350b95fb4b82abc26815bcaaa21b": {
          "model_module": "@jupyter-widgets/controls",
          "model_name": "ProgressStyleModel",
          "model_module_version": "1.5.0",
          "state": {
            "_view_name": "StyleView",
            "_model_name": "ProgressStyleModel",
            "description_width": "initial",
            "_view_module": "@jupyter-widgets/base",
            "_model_module_version": "1.5.0",
            "_view_count": null,
            "_view_module_version": "1.2.0",
            "bar_color": null,
            "_model_module": "@jupyter-widgets/controls"
          }
        },
        "9f0ff3845fac4db598314f9829141958": {
          "model_module": "@jupyter-widgets/base",
          "model_name": "LayoutModel",
          "model_module_version": "1.2.0",
          "state": {
            "_view_name": "LayoutView",
            "grid_template_rows": null,
            "right": null,
            "justify_content": null,
            "_view_module": "@jupyter-widgets/base",
            "overflow": null,
            "_model_module_version": "1.2.0",
            "_view_count": null,
            "flex_flow": null,
            "width": null,
            "min_width": null,
            "border": null,
            "align_items": null,
            "bottom": null,
            "_model_module": "@jupyter-widgets/base",
            "top": null,
            "grid_column": null,
            "overflow_y": null,
            "overflow_x": null,
            "grid_auto_flow": null,
            "grid_area": null,
            "grid_template_columns": null,
            "flex": null,
            "_model_name": "LayoutModel",
            "justify_items": null,
            "grid_row": null,
            "max_height": null,
            "align_content": null,
            "visibility": null,
            "align_self": null,
            "height": null,
            "min_height": null,
            "padding": null,
            "grid_auto_rows": null,
            "grid_gap": null,
            "max_width": null,
            "order": null,
            "_view_module_version": "1.2.0",
            "grid_template_areas": null,
            "object_position": null,
            "object_fit": null,
            "grid_auto_columns": null,
            "margin": null,
            "display": null,
            "left": null
          }
        },
        "ed43c08d4333475e9a74f320e987a506": {
          "model_module": "@jupyter-widgets/controls",
          "model_name": "DescriptionStyleModel",
          "model_module_version": "1.5.0",
          "state": {
            "_view_name": "StyleView",
            "_model_name": "DescriptionStyleModel",
            "description_width": "",
            "_view_module": "@jupyter-widgets/base",
            "_model_module_version": "1.5.0",
            "_view_count": null,
            "_view_module_version": "1.2.0",
            "_model_module": "@jupyter-widgets/controls"
          }
        },
        "fa7e091ab4ac4ccb9acd6340f5f2f614": {
          "model_module": "@jupyter-widgets/base",
          "model_name": "LayoutModel",
          "model_module_version": "1.2.0",
          "state": {
            "_view_name": "LayoutView",
            "grid_template_rows": null,
            "right": null,
            "justify_content": null,
            "_view_module": "@jupyter-widgets/base",
            "overflow": null,
            "_model_module_version": "1.2.0",
            "_view_count": null,
            "flex_flow": null,
            "width": null,
            "min_width": null,
            "border": null,
            "align_items": null,
            "bottom": null,
            "_model_module": "@jupyter-widgets/base",
            "top": null,
            "grid_column": null,
            "overflow_y": null,
            "overflow_x": null,
            "grid_auto_flow": null,
            "grid_area": null,
            "grid_template_columns": null,
            "flex": null,
            "_model_name": "LayoutModel",
            "justify_items": null,
            "grid_row": null,
            "max_height": null,
            "align_content": null,
            "visibility": null,
            "align_self": null,
            "height": null,
            "min_height": null,
            "padding": null,
            "grid_auto_rows": null,
            "grid_gap": null,
            "max_width": null,
            "order": null,
            "_view_module_version": "1.2.0",
            "grid_template_areas": null,
            "object_position": null,
            "object_fit": null,
            "grid_auto_columns": null,
            "margin": null,
            "display": null,
            "left": null
          }
        }
      }
    }
  },
  "cells": [
    {
      "cell_type": "code",
      "metadata": {
        "id": "BBZzrC45umZ7",
        "colab": {
          "base_uri": "https://localhost:8080/"
        },
        "outputId": "e6fc6b6f-f2c3-4eaf-a8f8-d7249d7c9e72"
      },
      "source": [
        "!jupyter nbconvert --to html APS360_Project.ipynb"
      ],
      "execution_count": null,
      "outputs": [
        {
          "output_type": "stream",
          "text": [
            "[NbConvertApp] Converting notebook APS360_Project.ipynb to html\n",
            "[NbConvertApp] Writing 1137998 bytes to APS360_Project.html\n"
          ],
          "name": "stdout"
        }
      ]
    },
    {
      "cell_type": "markdown",
      "metadata": {
        "id": "CLRuNf1sCuui"
      },
      "source": [
        "#Introduction#"
      ]
    },
    {
      "cell_type": "markdown",
      "metadata": {
        "id": "pLe7ivizDGM7"
      },
      "source": [
        "The goal of this project is to build and train a machine learning model that studies the characteristics of X-ray radiography, such that it can classify normal lungs and lungs with pneumonia under X-rays, and further classify pneumonia caused by COVID-19 from ordinary viral pneumonia based on X-ray scans. "
      ]
    },
    {
      "cell_type": "markdown",
      "metadata": {
        "id": "31HzxLh0lDYE"
      },
      "source": [
        "Data Source: https://www.kaggle.com/preetviradiya/covid19-radiography-dataset?select=COVID-19_Radiography_Dataset "
      ]
    },
    {
      "cell_type": "markdown",
      "metadata": {
        "id": "tD22ymKulK3l"
      },
      "source": [
        "Link to this Collab workbook: https://colab.research.google.com/drive/1nRuaHfkGTgJS8fC2Co3yjFJx6bLZY5Ib?usp=sharing "
      ]
    },
    {
      "cell_type": "code",
      "metadata": {
        "id": "Mn8wO_ZemjEY",
        "colab": {
          "base_uri": "https://localhost:8080/"
        },
        "outputId": "318a0ba7-40f4-451a-89c1-500cd4b48edd"
      },
      "source": [
        "import os\n",
        "import numpy as np\n",
        "import matplotlib.pyplot as plt\n",
        "import torch \n",
        "import torch.nn as nn \n",
        "import torch.nn.functional as F \n",
        "import torch.optim as optim \n",
        "import torchvision\n",
        "from torchvision import datasets, models, transforms \n",
        "from torch.utils.data.sampler import SubsetRandomSampler\n",
        "from PIL import Image \n",
        "\n",
        "use_cuda = True \n",
        "# Enable GPU\n",
        "!nvidia-smi"
      ],
      "execution_count": null,
      "outputs": [
        {
          "output_type": "stream",
          "text": [
            "Wed Aug  4 08:06:48 2021       \n",
            "+-----------------------------------------------------------------------------+\n",
            "| NVIDIA-SMI 470.42.01    Driver Version: 460.32.03    CUDA Version: 11.2     |\n",
            "|-------------------------------+----------------------+----------------------+\n",
            "| GPU  Name        Persistence-M| Bus-Id        Disp.A | Volatile Uncorr. ECC |\n",
            "| Fan  Temp  Perf  Pwr:Usage/Cap|         Memory-Usage | GPU-Util  Compute M. |\n",
            "|                               |                      |               MIG M. |\n",
            "|===============================+======================+======================|\n",
            "|   0  Tesla K80           Off  | 00000000:00:04.0 Off |                    0 |\n",
            "| N/A   72C    P8    33W / 149W |      0MiB / 11441MiB |      0%      Default |\n",
            "|                               |                      |                  N/A |\n",
            "+-------------------------------+----------------------+----------------------+\n",
            "                                                                               \n",
            "+-----------------------------------------------------------------------------+\n",
            "| Processes:                                                                  |\n",
            "|  GPU   GI   CI        PID   Type   Process name                  GPU Memory |\n",
            "|        ID   ID                                                   Usage      |\n",
            "|=============================================================================|\n",
            "|  No running processes found                                                 |\n",
            "+-----------------------------------------------------------------------------+\n"
          ],
          "name": "stdout"
        }
      ]
    },
    {
      "cell_type": "code",
      "metadata": {
        "id": "rry13JxYmts0",
        "colab": {
          "base_uri": "https://localhost:8080/"
        },
        "outputId": "6aa49003-8d93-4645-9fd4-fa6aaff39845"
      },
      "source": [
        "use_cuda = True \n",
        "# Enable GPU\n",
        "!nvidia-smi"
      ],
      "execution_count": null,
      "outputs": [
        {
          "output_type": "stream",
          "text": [
            "Wed Aug  4 08:12:40 2021       \n",
            "+-----------------------------------------------------------------------------+\n",
            "| NVIDIA-SMI 470.42.01    Driver Version: 460.32.03    CUDA Version: 11.2     |\n",
            "|-------------------------------+----------------------+----------------------+\n",
            "| GPU  Name        Persistence-M| Bus-Id        Disp.A | Volatile Uncorr. ECC |\n",
            "| Fan  Temp  Perf  Pwr:Usage/Cap|         Memory-Usage | GPU-Util  Compute M. |\n",
            "|                               |                      |               MIG M. |\n",
            "|===============================+======================+======================|\n",
            "|   0  Tesla K80           Off  | 00000000:00:04.0 Off |                    0 |\n",
            "| N/A   72C    P8    33W / 149W |      0MiB / 11441MiB |      0%      Default |\n",
            "|                               |                      |                  N/A |\n",
            "+-------------------------------+----------------------+----------------------+\n",
            "                                                                               \n",
            "+-----------------------------------------------------------------------------+\n",
            "| Processes:                                                                  |\n",
            "|  GPU   GI   CI        PID   Type   Process name                  GPU Memory |\n",
            "|        ID   ID                                                   Usage      |\n",
            "|=============================================================================|\n",
            "|  No running processes found                                                 |\n",
            "+-----------------------------------------------------------------------------+\n"
          ],
          "name": "stdout"
        }
      ]
    },
    {
      "cell_type": "markdown",
      "metadata": {
        "id": "U-B8ZKacCuji"
      },
      "source": [
        "#Data Processing#"
      ]
    },
    {
      "cell_type": "code",
      "metadata": {
        "id": "jjPHg3ytmYti",
        "colab": {
          "base_uri": "https://localhost:8080/"
        },
        "outputId": "c6ed9743-1a80-4593-9d65-297695e13126"
      },
      "source": [
        "from google.colab import drive\n",
        "drive.mount('/content/drive')"
      ],
      "execution_count": null,
      "outputs": [
        {
          "output_type": "stream",
          "text": [
            "Mounted at /content/drive\n"
          ],
          "name": "stdout"
        }
      ]
    },
    {
      "cell_type": "code",
      "metadata": {
        "id": "uNnbCIm9DKi5"
      },
      "source": [
        "# Locating the dataset in the drive \n",
        "orig_data_dir = '/content/drive/MyDrive/APS360/APS360 Project/Data'  # Change the directory of the dataset if necessary "
      ],
      "execution_count": null,
      "outputs": []
    },
    {
      "cell_type": "code",
      "metadata": {
        "id": "AnH5A5OBm_zH"
      },
      "source": [
        "# Resize and crop images into size 224 x 224\n",
        "im_transforms = transforms.Compose([transforms.Resize(224), transforms.ToTensor()])"
      ],
      "execution_count": null,
      "outputs": []
    },
    {
      "cell_type": "code",
      "metadata": {
        "id": "sjBjCTS-JMXQ",
        "colab": {
          "base_uri": "https://localhost:8080/",
          "height": 103
        },
        "outputId": "1ea9d932-5e36-4d01-d844-31f024570141"
      },
      "source": [
        "# DO NOT RUN THIS CODE AGAIN\n",
        "\"\"\"\n",
        "Since we have an unbalanced and small dataset for viral pneumonia, we duplicate \n",
        "the images in the folder to match the size of the COVID dataset. \n",
        "\"\"\"\n",
        "\"\"\"\n",
        "import shutil\n",
        "viral_dir = orig_data_dir + \"/Viral Pneumonia/\"\n",
        "n = 1\n",
        "for base, dirs, files in os.walk(viral_dir): \n",
        "  for Files in files: \n",
        "    shutil.copy(viral_dir + Files, viral_dir + \"Viral Pneumonia-A\" + str(n) + \".png\")\n",
        "    if n <= 926: \n",
        "      shutil.copy(viral_dir + Files, viral_dir + \"Viral Pneumonia-B\" + str(n) + \".png\")\n",
        "    n += 1\n",
        "\"\"\""
      ],
      "execution_count": null,
      "outputs": [
        {
          "output_type": "execute_result",
          "data": {
            "application/vnd.google.colaboratory.intrinsic+json": {
              "type": "string"
            },
            "text/plain": [
              "'\\nimport shutil\\nviral_dir = orig_data_dir + \"/Viral Pneumonia/\"\\nn = 1\\nfor base, dirs, files in os.walk(viral_dir): \\n  for Files in files: \\n    shutil.copy(viral_dir + Files, viral_dir + \"Viral Pneumonia-A\" + str(n) + \".png\")\\n    if n <= 926: \\n      shutil.copy(viral_dir + Files, viral_dir + \"Viral Pneumonia-B\" + str(n) + \".png\")\\n    n += 1\\n'"
            ]
          },
          "metadata": {
            "tags": []
          },
          "execution_count": 6
        }
      ]
    },
    {
      "cell_type": "code",
      "metadata": {
        "id": "SplF7VhVJdUx",
        "colab": {
          "base_uri": "https://localhost:8080/"
        },
        "outputId": "8c06b547-a8f0-45b4-bb0e-b666a0c3f7aa"
      },
      "source": [
        "# After balancing the dataset, here are the counts of the number of images we have \n",
        "normal_dir = orig_data_dir + \"/Normal\"\n",
        "total_files = 0 \n",
        "for base, dirs, files in os.walk(normal_dir): \n",
        "  for Files in files: \n",
        "    total_files += 1\n",
        "print(\"There are\", total_files, \"images for the normal set\")\n",
        "\n",
        "covid_dir = orig_data_dir + \"/COVID\"\n",
        "total_files = 0 \n",
        "for base, dirs, files in os.walk(covid_dir): \n",
        "  for Files in files: \n",
        "    total_files += 1\n",
        "print(\"There are\", total_files, \"images for the COVID set\")\n",
        "\n",
        "viral_dir = orig_data_dir + \"/Viral Pneumonia\"\n",
        "total_files = 0 \n",
        "for base, dirs, files in os.walk(viral_dir): \n",
        "  for Files in files: \n",
        "    total_files += 1\n",
        "print(\"There are\", total_files, \"images for the viral pneumonia set\")"
      ],
      "execution_count": null,
      "outputs": [
        {
          "output_type": "stream",
          "text": [
            "There are 3615 images for the normal set\n",
            "There are 3615 images for the COVID set\n",
            "There are 3615 images for the viral pneumonia set\n"
          ],
          "name": "stdout"
        }
      ]
    },
    {
      "cell_type": "code",
      "metadata": {
        "id": "et-BBkNrgRVk"
      },
      "source": [
        "# Dataloader preperation\n",
        "batch_size = 216\n",
        "num_workers = 1\n",
        "dataset = datasets.ImageFolder(orig_data_dir, transform=im_transforms)\n",
        "\n",
        "data_loader = torch.utils.data.DataLoader(dataset, batch_size=batch_size, \n",
        "                                      num_workers=num_workers, shuffle=True)"
      ],
      "execution_count": null,
      "outputs": []
    },
    {
      "cell_type": "code",
      "metadata": {
        "id": "K8fdZJOhEnrp"
      },
      "source": [
        "# Randomly separate the dataset into training, validation, and test set \n",
        "indices = np.arange(len(dataset))\n",
        "\n",
        "# Split into train, validation and test dataset\n",
        "np.random.seed(1000) # Fixed numpy random seed for reproducible shuffling\n",
        "np.random.shuffle(indices)\n",
        "train_data = int(len(indices) * 0.6) #split at 60% for training set\n",
        "valid_data = int(len(indices) * 0.2) #split at 20% for validation set\n",
        "test_data = int(len(indices) * 0.2) #split at 20% for test set"
      ],
      "execution_count": null,
      "outputs": []
    },
    {
      "cell_type": "code",
      "metadata": {
        "id": "_SU7ceKAEvEM"
      },
      "source": [
        "# Convert the three sets of data to data loader for training \n",
        "\n",
        "# split train val and test by index\n",
        "train_indics, val_indices, test_indices = indices[:train_data], indices[train_data:valid_data + train_data], indices[valid_data+train_data:] \n",
        "\n",
        "train_sampler = SubsetRandomSampler(train_indics)\n",
        "train_loader = torch.utils.data.DataLoader(dataset, batch_size=batch_size,\n",
        "                                      num_workers=num_workers, sampler=train_sampler)\n",
        "val_sampler = SubsetRandomSampler(val_indices)\n",
        "val_loader = torch.utils.data.DataLoader(dataset, batch_size=batch_size,\n",
        "                                      num_workers=num_workers, sampler=val_sampler)\n",
        "test_sampler = SubsetRandomSampler(test_indices)\n",
        "test_loader = torch.utils.data.DataLoader(dataset, batch_size=batch_size,\n",
        "                                      num_workers=num_workers, sampler=test_sampler)"
      ],
      "execution_count": null,
      "outputs": []
    },
    {
      "cell_type": "code",
      "metadata": {
        "id": "H7SgyIzIpCYD",
        "colab": {
          "base_uri": "https://localhost:8080/"
        },
        "outputId": "d7ddb03d-d289-4504-ef50-666976e0f6fc"
      },
      "source": [
        "# Datasize check\n",
        "print('Number of training data: ', len(train_loader.sampler))\n",
        "print('Number of validation data: ', len(val_loader.sampler))\n",
        "print('Number of test data: ', len(test_loader.sampler))"
      ],
      "execution_count": null,
      "outputs": [
        {
          "output_type": "stream",
          "text": [
            "Number of training data:  6506\n",
            "Number of validation data:  2168\n",
            "Number of test data:  2170\n"
          ],
          "name": "stdout"
        }
      ]
    },
    {
      "cell_type": "code",
      "metadata": {
        "id": "tkewEFnZEi8j",
        "colab": {
          "base_uri": "https://localhost:8080/",
          "height": 184
        },
        "outputId": "66777d9c-da32-4976-85d8-d33d8f1c465e"
      },
      "source": [
        "# Visualize a few sample images from the dataset \n",
        "\n",
        "# obtain one batch of training images\n",
        "dataiter = iter(train_loader)\n",
        "images, labels = dataiter.next()\n",
        "images = images.numpy() # convert images to numpy for display\n",
        "\n",
        "classes = [\"COVID\", \"Normal\", \"Viral Pneumonia\"]\n",
        "\n",
        "\n",
        "# plot the images in the batch, along with the corresponding labels\n",
        "fig = plt.figure(figsize=(10, 10))\n",
        "for idx in np.arange(20):\n",
        "    ax = fig.add_subplot(4, 20/4, idx+1, xticks=[], yticks=[])\n",
        "    #print (images[idx].shape)\n",
        "    plt.imshow(np.transpose(images[idx], (1, 2, 0)))\n",
        "    #print (np.transpose(images[idx], (1, 2, 0)).shape)\n",
        "    ax.set_title(classes[labels[idx]])"
      ],
      "execution_count": null,
      "outputs": [
        {
          "output_type": "stream",
          "text": [
            "(3, 224, 224)\n",
            "(224, 224, 3)\n"
          ],
          "name": "stdout"
        },
        {
          "output_type": "display_data",
          "data": {
            "image/png": "[encoded data removed]",
            "text/plain": [
              "<Figure size 720x720 with 1 Axes>"
            ]
          },
          "metadata": {
            "tags": []
          }
        }
      ]
    },
    {
      "cell_type": "markdown",
      "metadata": {
        "id": "ebc4v9tlrDYF"
      },
      "source": [
        "#Testing Functions#"
      ]
    },
    {
      "cell_type": "code",
      "metadata": {
        "id": "zGxKovrPrG6j"
      },
      "source": [
        "# Compute the accuracy of the prediction compared to the labels \n",
        "def get_accuracy(model, data_loader): \n",
        "  correct = 0\n",
        "  total = 0\n",
        "  for imgs, labels in data_loader:\n",
        "    \n",
        "    #############################################\n",
        "    #To Enable GPU Usage\n",
        "    if use_cuda and torch.cuda.is_available():\n",
        "      imgs = imgs.cuda()\n",
        "      labels = labels.cuda()\n",
        "    #############################################\n",
        "    \n",
        "    output = model(imgs)\n",
        "    \n",
        "    #select index with maximum prediction score\n",
        "    pred = output.max(1, keepdim=True)[1]\n",
        "    correct += pred.eq(labels.view_as(pred)).sum().item()\n",
        "    total += imgs.shape[0]\n",
        "  return correct / total"
      ],
      "execution_count": null,
      "outputs": []
    },
    {
      "cell_type": "code",
      "metadata": {
        "id": "lb5Q8hf_xUVB"
      },
      "source": [
        "# Compute the F1 score of the testing \n",
        "\"\"\"\n",
        "As the main purpose of our project is to identify patients with COVID-19 \n",
        "infection, we only define the COVID-19 class to be positive, where the \n",
        "viral pneumonia class is classified as negative along with the normal \n",
        "class. \n",
        "\"\"\"\n",
        "def F1_score(model, data_loader): \n",
        "  true_pos = 0 \n",
        "  true_neg = 0 \n",
        "  false_pos = 0 \n",
        "  false_neg = 0 \n",
        "  \n",
        "  for imgs, labels in data_loader: \n",
        "    \n",
        "    #############################################\n",
        "    #To Enable GPU Usage\n",
        "    if use_cuda and torch.cuda.is_available():\n",
        "      imgs = imgs.cuda()\n",
        "      labels = labels.cuda()\n",
        "    #############################################\n",
        "    output = model(imgs)\n",
        "\n",
        "    # Select index with maximum prediction score \n",
        "    pred = output.max(1, keepdim=True)[1].tolist()\n",
        "    for i in range(len(pred)): \n",
        "      if labels[i] == 0: \n",
        "        if pred[i][0] == labels[i]: \n",
        "          true_pos += 1\n",
        "        else: \n",
        "          false_neg += 1\n",
        "      else: \n",
        "        if pred[i][0] == 0: \n",
        "          false_pos += 1\n",
        "        else: \n",
        "          true_neg += 1\n",
        "  print(\"True positive:\", true_pos)\n",
        "  print(\"False positive:\", false_pos)\n",
        "  print(\"False negative:\", false_neg)\n",
        "  print(\"True negative:\", true_neg)\n",
        "  print()\n",
        "  recall = true_pos / (true_pos + false_neg)\n",
        "  precision = true_pos / (true_pos + false_pos)\n",
        "  print(\"Recall:\", recall)\n",
        "  print(\"Precision:\", precision)\n",
        "  print(\"F1 Score:\", 2 * precision * recall / (precision + recall))\n"
      ],
      "execution_count": null,
      "outputs": []
    },
    {
      "cell_type": "markdown",
      "metadata": {
        "id": "EfqHa2S8CuVb"
      },
      "source": [
        "#Baseline Model#"
      ]
    },
    {
      "cell_type": "markdown",
      "metadata": {
        "id": "GGoEkd6LDbzK"
      },
      "source": [
        "Our baseline model is built based on a CNN model with convolutional and fully-connected layers only. "
      ]
    },
    {
      "cell_type": "code",
      "metadata": {
        "id": "8y8tE3PczWix"
      },
      "source": [
        "def train(model, train_loader, val_loader, batch_size=256, \n",
        "              learning_rate=0.05, num_epochs=20): \n",
        "  \n",
        "  torch.manual_seed(1000)\n",
        "  \n",
        "  #################################################################\n",
        "  criterion = nn.CrossEntropyLoss()\n",
        "  optimizer = optim.Adam(model.parameters(), lr=learning_rate)\n",
        "  iters, losses, train_acc, val_acc = [], [], [], []\n",
        "  ##############################################################\n",
        "  # training \n",
        "  n = 0 \n",
        "\n",
        "  for epoch in range(num_epochs):\n",
        "    for imgs, labels in iter(train_loader): \n",
        "      #############################################\n",
        "      #To Enable GPU Usage\n",
        "      \n",
        "      if use_cuda and torch.cuda.is_available():\n",
        "        imgs = imgs.cuda()\n",
        "        labels = labels.cuda()\n",
        "      #############################################\n",
        "      out = model(imgs)                       # forward pass \n",
        "      loss = criterion(out, labels)           # compute the total loss \n",
        "      loss.backward()\n",
        "      optimizer.step()                        # backward pass (compute para. update) \n",
        "      optimizer.zero_grad()                   # a clean up step for PyTorch \n",
        "      \n",
        "    ##############################################################\n",
        "    # save the current training info. \n",
        "    iters.append(n)\n",
        "    losses.append(float(loss)/batch_size)\n",
        "\n",
        "    train_acc.append(get_accuracy(model, train_loader))\n",
        "\n",
        "    val_acc.append(get_accuracy(model, val_loader))\n",
        "    print(\"epoch number \", epoch+1, \"training accuracy: \",train_acc[epoch] , \" and validation accuracy: \",val_acc[epoch])\n",
        "    n+=1\n",
        "  \n",
        "  # plotting \n",
        "  plt.title ('Training Curve')\n",
        "  plt.plot(iters, losses, label='Train')\n",
        "  plt.xlabel('Iterations')\n",
        "  plt.ylabel('Loss')\n",
        "  plt.show()\n",
        "\n",
        "  plt.title(\"Training Curve\")\n",
        "  plt.plot(iters, train_acc, label='Train')\n",
        "  plt.plot(iters, val_acc, label='Validation')\n",
        "  plt.xlabel('Iterations')\n",
        "  plt.ylabel('Training Accuracy')\n",
        "  plt.legend(loc='best')\n",
        "  plt.show() \n",
        "  \n",
        "  print(\"Final Training Accuracy: {}\".format(train_acc[-1]))\n",
        "  print('Final Validation Accuracy: {}'.format(val_acc[-1]))\n"
      ],
      "execution_count": null,
      "outputs": []
    },
    {
      "cell_type": "code",
      "metadata": {
        "id": "zIVLo_O1Do4c"
      },
      "source": [
        "class BASE(nn.Module): \n",
        "  \n",
        "    def __init__(self):\n",
        "        super(BASE, self).__init__()\n",
        "        self.name = \"BASE\"\n",
        "        self.conv1 = nn.Conv2d(3, 5, 5)\n",
        "        self.pool = nn.MaxPool2d(2, 2)\n",
        "        self.conv2 = nn.Conv2d(5, 10, 5)\n",
        "        self.conv3 = nn.Conv2d(10, 25, 5)\n",
        "        self.fc1 = nn.Linear(24* 25* 24, 128)\n",
        "        self.fc2 = nn.Linear(128, 32)\n",
        "        self.fc3 = nn.Linear (32,3)\n",
        "\n",
        "    def forward(self, x):                     # torch.Size([216, 3, 224, 224])\n",
        "        x = self.pool(F.relu(self.conv1(x)))  #torch.Size([216, 5, 110, 110])\n",
        "        x = self.pool(F.relu(self.conv2(x))) #torch.Size([216, 10, 53, 53])\n",
        "        x = self.pool(F.relu(self.conv3(x)))\n",
        "        x.shape       \n",
        "        x = x.view(-1, 24* 25* 24)             #torch.Size([216, 28090])\n",
        "        x = F.relu(self.fc1(x))               #torch.Size([216, 32])\n",
        "        print ('-----')\n",
        "        x = F.relu(self.fc2(x)) \n",
        "        x = self.fc3(x)\n",
        "        return x\n",
        " "
      ],
      "execution_count": null,
      "outputs": []
    },
    {
      "cell_type": "code",
      "metadata": {
        "colab": {
          "base_uri": "https://localhost:8080/"
        },
        "id": "zonZFSseMFQy",
        "outputId": "e074578a-b5d6-411f-dbc4-34e494324835"
      },
      "source": [
        "Baseline_model = BASE()\n",
        "if use_cuda and torch.cuda.is_available():\n",
        "    Baseline_model.cuda()\n",
        "    print('CUDA is available!  Training on GPU ...')\n",
        "\n",
        "#train (Baseline_model, train_loader, val_loader, batch_size=64, learning_rate=0.001, num_epochs=20)"
      ],
      "execution_count": null,
      "outputs": [
        {
          "output_type": "stream",
          "text": [
            "CUDA is available!  Training on GPU ...\n"
          ],
          "name": "stdout"
        }
      ]
    },
    {
      "cell_type": "code",
      "metadata": {
        "colab": {
          "base_uri": "https://localhost:8080/"
        },
        "id": "jxBz079MkaGQ",
        "outputId": "340f5eea-2ae1-416d-88ca-a08479d8685b"
      },
      "source": [
        "print(\"Final test accuracy of the Baseline model is:\", get_accuracy(Baseline_model, test_loader))"
      ],
      "execution_count": null,
      "outputs": [
        {
          "output_type": "stream",
          "text": [
            "Final test accuracy of the Baseline model is: 0.9203132197144174\n"
          ],
          "name": "stdout"
        }
      ]
    },
    {
      "cell_type": "code",
      "metadata": {
        "id": "Qnjbqt0LEc96",
        "colab": {
          "base_uri": "https://localhost:8080/"
        },
        "outputId": "31d70001-2942-4a42-b65a-7c60bee98006"
      },
      "source": [
        "F1_score(Baseline_model, test_loader)"
      ],
      "execution_count": null,
      "outputs": [
        {
          "output_type": "stream",
          "text": [
            "True positive: 660\n",
            "False positive: 58\n",
            "False negative: 66\n",
            "True negative: 1386\n",
            "\n",
            "Recall: 0.9090909090909091\n",
            "Precision: 0.9192200557103064\n",
            "F1 Score: 0.9141274238227146\n"
          ],
          "name": "stdout"
        }
      ]
    },
    {
      "cell_type": "markdown",
      "metadata": {
        "id": "XDo-T-YTC_98"
      },
      "source": [
        "#Primary Model (AlexNet)"
      ]
    },
    {
      "cell_type": "markdown",
      "metadata": {
        "id": "PS82XU21DqOD"
      },
      "source": [
        "The primary model is built based on a pre-trained AlexNet which uses transfer learning techniques. "
      ]
    },
    {
      "cell_type": "code",
      "metadata": {
        "id": "O6_6jI_GC_MK"
      },
      "source": [
        "# Use AlexNet \n",
        "alexnet = torchvision.models.alexnet(pretrained=True)"
      ],
      "execution_count": null,
      "outputs": []
    },
    {
      "cell_type": "code",
      "metadata": {
        "id": "ZXdhRdBhgbyn"
      },
      "source": [
        "# Directories used to store the pre-trained features \n",
        "feature_dir = '/content/drive/MyDrive/APS360/APS360 Project/AlexNet Features'  # Change the directory if necessary \n",
        "train_feature_dir = os.path.join(feature_dir, 'train/')\n",
        "val_feature_dir = os.path.join(feature_dir, 'val/')\n",
        "test_feature_dir = os.path.join(feature_dir, 'test/')"
      ],
      "execution_count": null,
      "outputs": []
    },
    {
      "cell_type": "code",
      "metadata": {
        "id": "GBBdidpCBUba"
      },
      "source": [
        "train_alex_loader = torch.utils.data.DataLoader(dataset, batch_size=1,\n",
        "                                      num_workers=num_workers, sampler=train_sampler)\n",
        "val_alex_loader = torch.utils.data.DataLoader(dataset, batch_size=1,\n",
        "                                      num_workers=num_workers, sampler=val_sampler)\n",
        "test_alex_loader = torch.utils.data.DataLoader(dataset, batch_size=1,\n",
        "                                      num_workers=num_workers, sampler=test_sampler)"
      ],
      "execution_count": null,
      "outputs": []
    },
    {
      "cell_type": "code",
      "metadata": {
        "id": "JcVAHGMNmEYJ"
      },
      "source": [
        "# Save the computed features for the training and validation set \n",
        "use_cuda = True \n",
        "\n",
        "n = 0 \n",
        "for img, label in iter(train_alex_loader): \n",
        "  if use_cuda and torch.cuda.is_available():\n",
        "    features = alexnet.features(img).cuda()\n",
        "    features_tensor = torch.from_numpy(features.cpu().detach().numpy())\n",
        "  else: \n",
        "    features = alexnet.features(img)\n",
        "    features_tensor = torch.from_numpy(features.detach().numpy())\n",
        "  \n",
        "  folder_dir = train_feature_dir + str(classes[label])\n",
        "  if not os.path.isdir(folder_dir):\n",
        "    os.mkdir(folder_dir)\n",
        "  torch.save(features_tensor.squeeze(0), folder_dir + '/' + str(n) + '.tensor')\n",
        "  n += 1\n",
        "\n",
        "n = 0 \n",
        "for img, label in iter(val_alex_loader): \n",
        "  if use_cuda and torch.cuda.is_available():\n",
        "    features = alexnet.features(img).cuda()\n",
        "    features_tensor = torch.from_numpy(features.cpu().detach().numpy())\n",
        "  else: \n",
        "    features = alexnet.features(img)\n",
        "    features_tensor = torch.from_numpy(features.detach().numpy())\n",
        "  \n",
        "  folder_dir = val_feature_dir + str(classes[label])\n",
        "  if not os.path.isdir(folder_dir):\n",
        "    os.mkdir(folder_dir)\n",
        "  torch.save(features_tensor.squeeze(0), folder_dir + '/' + str(n) + '.tensor')\n",
        "  n += 1"
      ],
      "execution_count": null,
      "outputs": []
    },
    {
      "cell_type": "code",
      "metadata": {
        "id": "3wbOS9VSnV5I"
      },
      "source": [
        "# Reload the pre-trained features \n",
        "train_features = torchvision.datasets.DatasetFolder(\n",
        "    train_feature_dir, loader=torch.load, extensions=('.tensor'))\n",
        "train_features_loader = torch.utils.data.DataLoader(train_features, batch_size=batch_size, shuffle=True) \n",
        "val_features = torchvision.datasets.DatasetFolder(\n",
        "    val_feature_dir, loader=torch.load, extensions=('.tensor'))\n",
        "val_features_loader = torch.utils.data.DataLoader(val_features, batch_size=batch_size, shuffle=True)  "
      ],
      "execution_count": null,
      "outputs": []
    },
    {
      "cell_type": "code",
      "metadata": {
        "id": "BE6Egnqzm7bJ"
      },
      "source": [
        "class AlexNet(nn.Module): \n",
        "  def __init__(self): \n",
        "    super(AlexNet, self).__init__()\n",
        "    self.conv1 = nn.Conv2d(256, 512, 3)\n",
        "    self.pool = nn.MaxPool2d(2, 2)\n",
        "    self.fc1 = nn.Linear(2 * 2 * 512, 512)\n",
        "    self.fc2 = nn.Linear(512, 9)\n",
        "\n",
        "  def forward(self, x): \n",
        "    x = self.pool(F.relu(self.conv1(x)))\n",
        "    x = x.view(-1, 2 * 2 * 512)\n",
        "    x = F.relu(self.fc1(x))\n",
        "    x = self.fc2(x)\n",
        "    return x"
      ],
      "execution_count": null,
      "outputs": []
    },
    {
      "cell_type": "code",
      "metadata": {
        "colab": {
          "base_uri": "https://localhost:8080/",
          "height": 794
        },
        "id": "wW9VW0KOzb5O",
        "outputId": "abdb84ce-a59f-40ea-b8c0-a03b176589f5"
      },
      "source": [
        "# Train the AlexNet by tuning hyperparameters \n",
        "alex_model = AlexNet() \n",
        "if use_cuda and torch.cuda.is_available():\n",
        "  alex_model.cuda()\n",
        "  print('CUDA is available!  Training on GPU ...')\n",
        "\n",
        "train(alex_model, train_features_loader, val_features_loader, \n",
        "      batch_size=batch_size, learning_rate=0.001, num_epochs=10)"
      ],
      "execution_count": null,
      "outputs": [
        {
          "output_type": "stream",
          "text": [
            "CUDA is available!  Training on GPU ...\n",
            "epoch number  1 training accuracy:  0.926529357516139  and validation accuracy:  0.919280442804428\n",
            "epoch number  2 training accuracy:  0.9677221026744544  and validation accuracy:  0.9547970479704797\n",
            "epoch number  3 training accuracy:  0.9766369505072241  and validation accuracy:  0.9584870848708487\n",
            "epoch number  4 training accuracy:  0.9826314171533969  and validation accuracy:  0.9607933579335793\n",
            "epoch number  5 training accuracy:  0.9841684598831848  and validation accuracy:  0.9584870848708487\n",
            "epoch number  6 training accuracy:  0.9966185059944667  and validation accuracy:  0.9690959409594095\n",
            "epoch number  7 training accuracy:  0.9987703658161697  and validation accuracy:  0.9686346863468634\n",
            "epoch number  8 training accuracy:  0.9998462957270212  and validation accuracy:  0.9672509225092251\n",
            "epoch number  9 training accuracy:  1.0  and validation accuracy:  0.9681734317343174\n",
            "epoch number  10 training accuracy:  1.0  and validation accuracy:  0.9704797047970479\n"
          ],
          "name": "stdout"
        },
        {
          "output_type": "display_data",
          "data": {
            "image/png": "[encoded data removed]",
            "text/plain": [
              "<Figure size 432x288 with 1 Axes>"
            ]
          },
          "metadata": {
            "tags": [],
            "needs_background": "light"
          }
        },
        {
          "output_type": "display_data",
          "data": {
            "image/png": "[encoded data removed]",
            "text/plain": [
              "<Figure size 432x288 with 1 Axes>"
            ]
          },
          "metadata": {
            "tags": [],
            "needs_background": "light"
          }
        },
        {
          "output_type": "stream",
          "text": [
            "Final Training Accuracy: 1.0\n",
            "Final Validation Accuracy: 0.9704797047970479\n"
          ],
          "name": "stdout"
        }
      ]
    },
    {
      "cell_type": "code",
      "metadata": {
        "id": "8mo0mojJzR7n"
      },
      "source": [
        "# Compute features for the testing set \n",
        "n = 0 \n",
        "for img, label in iter(test_alex_loader): \n",
        "  if use_cuda and torch.cuda.is_available():\n",
        "    features = alexnet.features(img).cuda()\n",
        "    features_tensor = torch.from_numpy(features.cpu().detach().numpy())\n",
        "  else: \n",
        "    features = alexnet.features(img)\n",
        "    features_tensor = torch.from_numpy(features.detach().numpy())\n",
        "  \n",
        "  folder_dir = test_feature_dir + str(classes[label])\n",
        "  if not os.path.isdir(folder_dir):\n",
        "    os.mkdir(folder_dir)\n",
        "  torch.save(features_tensor.squeeze(0), folder_dir + '/' + str(n) + '.tensor')\n",
        "  n += 1"
      ],
      "execution_count": null,
      "outputs": []
    },
    {
      "cell_type": "code",
      "metadata": {
        "id": "7Mp7StTD2CzB"
      },
      "source": [
        "# Reload the testing features \n",
        "test_features = torchvision.datasets.DatasetFolder(\n",
        "    test_feature_dir, loader=torch.load, extensions=('.tensor'))\n",
        "test_features_loader = torch.utils.data.DataLoader(test_features, batch_size=batch_size, shuffle=True)"
      ],
      "execution_count": null,
      "outputs": []
    },
    {
      "cell_type": "code",
      "metadata": {
        "id": "FiNdHbjl_KYE",
        "colab": {
          "base_uri": "https://localhost:8080/"
        },
        "outputId": "d6f4abac-7663-4005-f49a-a886de48f984"
      },
      "source": [
        "print(\"Final test accuracy of the AlexNet model is:\", get_accuracy(alex_model, test_features_loader))"
      ],
      "execution_count": null,
      "outputs": [
        {
          "output_type": "stream",
          "text": [
            "Final test accuracy of the AlexNet model is: 0.9741935483870968\n"
          ],
          "name": "stdout"
        }
      ]
    },
    {
      "cell_type": "code",
      "metadata": {
        "colab": {
          "base_uri": "https://localhost:8080/"
        },
        "id": "46YoZr9W-EHM",
        "outputId": "4d5bf4b3-e4bd-4d4f-ae48-832c8b71a66d"
      },
      "source": [
        "F1_score(alex_model, test_features_loader)"
      ],
      "execution_count": null,
      "outputs": [
        {
          "output_type": "stream",
          "text": [
            "True positive: 707\n",
            "False positive: 27\n",
            "False negative: 19\n",
            "True negative: 1417\n",
            "\n",
            "Recall: 0.9738292011019284\n",
            "Precision: 0.9632152588555858\n",
            "F1 Score: 0.9684931506849316\n"
          ],
          "name": "stdout"
        }
      ]
    },
    {
      "cell_type": "markdown",
      "metadata": {
        "id": "L8Ke8EruE4tw"
      },
      "source": [
        "#More Advanced Models#\n",
        "Although our primary model has already shown good performance in terms of accuracy, we have also tried out some of the more advanced models for image recognition to compare their performance with the primary model. "
      ]
    },
    {
      "cell_type": "markdown",
      "metadata": {
        "id": "blLLn_3NE9QW"
      },
      "source": [
        "##GoogLeNet (Inception)##"
      ]
    },
    {
      "cell_type": "code",
      "metadata": {
        "id": "HFEeYkJe-C4N"
      },
      "source": [
        "# Locating the dataset in the drive \n",
        "orig_data_dir = '/content/drive/MyDrive/APS360/APS360 Project/Data'  # Change the directory of the dataset if necessary \n",
        "# Resize and crop images into size 224 x 224\n",
        "transforms = transforms.Compose([\n",
        "    transforms.Resize(299),\n",
        "    transforms.CenterCrop(299),\n",
        "    transforms.ToTensor(),\n",
        "    transforms.Normalize(mean=[0.485, 0.456, 0.406], std=[0.229, 0.224, 0.225]),\n",
        "])"
      ],
      "execution_count": null,
      "outputs": []
    },
    {
      "cell_type": "code",
      "metadata": {
        "colab": {
          "base_uri": "https://localhost:8080/"
        },
        "id": "iam5XpdgAsuW",
        "outputId": "fd65aff8-d4bb-498d-94d9-d4902e5f6961"
      },
      "source": [
        "# After balancing the dataset, here are the counts of the number of images we have \n",
        "normal_dir = orig_data_dir + \"/Normal\"\n",
        "total_files = 0 \n",
        "for base, dirs, files in os.walk(normal_dir): \n",
        "  for Files in files: \n",
        "    total_files += 1\n",
        "print(\"There are\", total_files, \"images for the normal set\")\n",
        "\n",
        "covid_dir = orig_data_dir + \"/COVID\"\n",
        "total_files = 0 \n",
        "for base, dirs, files in os.walk(covid_dir): \n",
        "  for Files in files: \n",
        "    total_files += 1\n",
        "print(\"There are\", total_files, \"images for the COVID set\")\n",
        "\n",
        "viral_dir = orig_data_dir + \"/Viral Pneumonia\"\n",
        "total_files = 0 \n",
        "for base, dirs, files in os.walk(viral_dir): \n",
        "  for Files in files: \n",
        "    total_files += 1\n",
        "print(\"There are\", total_files, \"images for the viral pneumonia set\")"
      ],
      "execution_count": null,
      "outputs": [
        {
          "output_type": "stream",
          "text": [
            "There are 3615 images for the normal set\n",
            "There are 3614 images for the COVID set\n",
            "There are 3615 images for the viral pneumonia set\n"
          ],
          "name": "stdout"
        }
      ]
    },
    {
      "cell_type": "code",
      "metadata": {
        "id": "lby4oDvWA0Oo"
      },
      "source": [
        "# Dataloader preperation\n",
        "batch_size = 64\n",
        "num_workers = 1\n",
        "dataset = datasets.ImageFolder(orig_data_dir, transform=transforms)\n",
        "\n",
        "data_loader = torch.utils.data.DataLoader(dataset, batch_size=batch_size, \n",
        "                                      num_workers=num_workers, shuffle=True)"
      ],
      "execution_count": null,
      "outputs": []
    },
    {
      "cell_type": "code",
      "metadata": {
        "id": "SYCHyxh8A-g4"
      },
      "source": [
        "# Randomly separate the dataset into training, validation, and test set \n",
        "indices = np.arange(len(dataset))\n",
        "\n",
        "# Split into train, validation and test dataset\n",
        "np.random.seed(1000) # Fixed numpy random seed for reproducible shuffling\n",
        "np.random.shuffle(indices)\n",
        "train_data = int(len(indices) * 0.2) #split at 60% for training set\n",
        "valid_data = int(len(indices) * 0.0666666) #split at 20% for validation set\n",
        "test_data = int(len(indices) * 0.0666666) #split at 20% for test set\n"
      ],
      "execution_count": null,
      "outputs": []
    },
    {
      "cell_type": "code",
      "metadata": {
        "id": "Tr0w5B3FBGyy"
      },
      "source": [
        "# Convert the three sets of data to data loader for training \n",
        "\n",
        "# split train val and test by index\n",
        "train_indics, val_indices, test_indices = indices[:train_data], indices[train_data:valid_data + train_data], indices[valid_data+train_data:] \n",
        "\n",
        "G_train_sampler = SubsetRandomSampler(train_indics)\n",
        "G_train_loader = torch.utils.data.DataLoader(dataset, batch_size=batch_size,\n",
        "                                      num_workers=num_workers, sampler=G_train_sampler)\n",
        "G_val_sampler = SubsetRandomSampler(val_indices)\n",
        "G_val_loader = torch.utils.data.DataLoader(dataset, batch_size=batch_size,\n",
        "                                      num_workers=num_workers, sampler=G_val_sampler)\n",
        "G_test_sampler = SubsetRandomSampler(test_indices)\n",
        "G_test_loader = torch.utils.data.DataLoader(dataset, batch_size=batch_size,\n",
        "                                      num_workers=num_workers, sampler=G_test_sampler)"
      ],
      "execution_count": null,
      "outputs": []
    },
    {
      "cell_type": "code",
      "metadata": {
        "id": "1gk4_XEC8m_Z"
      },
      "source": [
        "G_model = models.googlenet(pretrained=True)"
      ],
      "execution_count": null,
      "outputs": []
    },
    {
      "cell_type": "code",
      "metadata": {
        "id": "qhPhbAoXFKiE",
        "colab": {
          "base_uri": "https://localhost:8080/",
          "height": 775
        },
        "outputId": "1b02fe09-2371-4af3-a11a-aa62a91598d4"
      },
      "source": [
        "if use_cuda and torch.cuda.is_available():\n",
        "  G_model.cuda()\n",
        "  print('CUDA is available!  Training on GPU ...')\n",
        " \n",
        "train(G_model, G_train_loader, G_val_loader, batch_size=batch_size, learning_rate=0.001, num_epochs=5)"
      ],
      "execution_count": null,
      "outputs": [
        {
          "output_type": "stream",
          "text": [
            "CUDA is available!  Training on GPU ...\n"
          ],
          "name": "stdout"
        },
        {
          "output_type": "stream",
          "text": [
            "/usr/local/lib/python3.7/dist-packages/torch/nn/functional.py:718: UserWarning: Named tensors and all their associated APIs are an experimental feature and subject to change. Please do not use them for anything important until they are released as stable. (Triggered internally at  /pytorch/c10/core/TensorImpl.h:1156.)\n",
            "  return torch.max_pool2d(input, kernel_size, stride, padding, dilation, ceil_mode)\n"
          ],
          "name": "stderr"
        },
        {
          "output_type": "stream",
          "text": [
            "epoch number  1 training accuracy:  0.9677121771217713  and validation accuracy:  0.9445983379501385\n",
            "epoch number  2 training accuracy:  0.992619926199262  and validation accuracy:  0.9681440443213296\n",
            "epoch number  3 training accuracy:  0.988929889298893  and validation accuracy:  0.9529085872576177\n",
            "epoch number  4 training accuracy:  0.9861623616236163  and validation accuracy:  0.9445983379501385\n",
            "epoch number  5 training accuracy:  0.992619926199262  and validation accuracy:  0.9667590027700831\n"
          ],
          "name": "stdout"
        },
        {
          "output_type": "display_data",
          "data": {
            "image/png": "[encoded data removed]",
            "text/plain": [
              "<Figure size 432x288 with 1 Axes>"
            ]
          },
          "metadata": {
            "tags": [],
            "needs_background": "light"
          }
        },
        {
          "output_type": "display_data",
          "data": {
            "image/png": "[encoded data removed]",
            "text/plain": [
              "<Figure size 432x288 with 1 Axes>"
            ]
          },
          "metadata": {
            "tags": [],
            "needs_background": "light"
          }
        },
        {
          "output_type": "stream",
          "text": [
            "Final Training Accuracy: 0.992619926199262\n",
            "Final Validation Accuracy: 0.9667590027700831\n"
          ],
          "name": "stdout"
        }
      ]
    },
    {
      "cell_type": "code",
      "metadata": {
        "id": "RDy04GD7_ndM",
        "colab": {
          "base_uri": "https://localhost:8080/"
        },
        "outputId": "d926745b-8764-4dbf-c585-dd56c7ce7ebd"
      },
      "source": [
        "print(\"Final test accuracy of the GoogleNet model is:\", get_accuracy(G_model, G_test_loader))"
      ],
      "execution_count": null,
      "outputs": [
        {
          "output_type": "stream",
          "text": [
            "Final test accuracy of the GoogleNet model is: 0.9730952979632889\n"
          ],
          "name": "stdout"
        }
      ]
    },
    {
      "cell_type": "code",
      "metadata": {
        "id": "54uWQaxNEi_u",
        "colab": {
          "base_uri": "https://localhost:8080/"
        },
        "outputId": "9b58e30a-71d5-4e0f-956f-adf229fb3547"
      },
      "source": [
        "F1_score(G_model, G_test_loader)"
      ],
      "execution_count": null,
      "outputs": [
        {
          "output_type": "stream",
          "text": [
            "True positive: 2550\n",
            "False positive: 88\n",
            "False negative: 97\n",
            "True negative: 5219\n",
            "\n",
            "Recall: 0.9633547412164715\n",
            "Precision: 0.9666413949962093\n",
            "F1 Score: 0.9649952696310312\n"
          ],
          "name": "stdout"
        }
      ]
    },
    {
      "cell_type": "markdown",
      "metadata": {
        "id": "Z4F-b9XpFCOR"
      },
      "source": [
        "##Visual Geometry Group (VGG)##"
      ]
    },
    {
      "cell_type": "code",
      "metadata": {
        "id": "CO2zG213E7kY"
      },
      "source": [
        "import torch\n",
        "import torchvision\n",
        "import torchvision.transforms as transforms\n",
        "import toch.optim as optim\n",
        "import time\n",
        "import torch.nn.functional as F\n",
        "import torch.nn as nn\n",
        "import matplotlib.pylot as plt"
      ],
      "execution_count": null,
      "outputs": []
    },
    {
      "cell_type": "markdown",
      "metadata": {
        "id": "Nquu5ww3_4gu"
      },
      "source": [
        "[1] https://link.springer.com/article/10.1007/s42600-021-00151-6\n",
        "\n",
        "\n",
        "https://pytorch.org/hub/pytorch_vision_vgg/\n",
        "\n",
        "\n",
        "https://debuggercafe.com/transfer-learning-with-pytorch/"
      ]
    },
    {
      "cell_type": "markdown",
      "metadata": {
        "id": "6-qKnHYcVHON"
      },
      "source": [
        "##ResNet##"
      ]
    },
    {
      "cell_type": "code",
      "metadata": {
        "id": "Jk3Pdqa5VI4M",
        "colab": {
          "base_uri": "https://localhost:8080/",
          "height": 103,
          "referenced_widgets": [
            "2e7819ff091949a0b77a9d914dfa8bd2",
            "086b29e5cd9f487e8f09f322bba4ada5",
            "8de6a5c9990140268aa914d5d88735b4",
            "9fc0e0cc1ad044b699090ef8e404083d",
            "0c3a350b95fb4b82abc26815bcaaa21b",
            "9f0ff3845fac4db598314f9829141958",
            "ed43c08d4333475e9a74f320e987a506",
            "fa7e091ab4ac4ccb9acd6340f5f2f614"
          ]
        },
        "outputId": "cb2ffd6e-6abf-4912-b16b-f42f2f785c01"
      },
      "source": [
        "resnet_model = models.resnet.resnet18(pretrained=True)\n",
        "num_ftrs = resnet_model.fc.in_features\n",
        "resnet_model.fc = nn.Linear(num_ftrs, 3)\n",
        "device = torch.device(\"cuda:0\" if torch.cuda.is_available() else \"cpu\")\n",
        "resnet_model = resnet_model.to(device)"
      ],
      "execution_count": null,
      "outputs": [
        {
          "output_type": "stream",
          "text": [
            "Downloading: \"https://download.pytorch.org/models/resnet18-f37072fd.pth\" to /root/.cache/torch/hub/checkpoints/resnet18-f37072fd.pth\n"
          ],
          "name": "stderr"
        },
        {
          "output_type": "display_data",
          "data": {
            "application/vnd.jupyter.widget-view+json": {
              "model_id": "2e7819ff091949a0b77a9d914dfa8bd2",
              "version_minor": 0,
              "version_major": 2
            },
            "text/plain": [
              "HBox(children=(FloatProgress(value=0.0, max=46830571.0), HTML(value='')))"
            ]
          },
          "metadata": {
            "tags": []
          }
        },
        {
          "output_type": "stream",
          "text": [
            "\n"
          ],
          "name": "stdout"
        }
      ]
    },
    {
      "cell_type": "code",
      "metadata": {
        "colab": {
          "base_uri": "https://localhost:8080/",
          "height": 709
        },
        "id": "7EKQT9xUejNF",
        "outputId": "7c6cdf51-7343-4f98-8cb1-6decee4e9357"
      },
      "source": [
        "# Train the ResNet by tuning hyperparameters \n",
        "if use_cuda and torch.cuda.is_available():\n",
        "  resnet_model.cuda()\n",
        "  print('CUDA is available!  Training on GPU ...')\n",
        "\n",
        "train(resnet_model, train_loader, val_loader, batch_size=batch_size, learning_rate=0.001, num_epochs=5)"
      ],
      "execution_count": null,
      "outputs": [
        {
          "output_type": "stream",
          "text": [
            "CUDA is available!  Training on GPU ...\n",
            "epoch number  1 training accuracy:  0.9786351060559484  and validation accuracy:  0.9690959409594095\n",
            "epoch number  2 training accuracy:  0.9761758376882878  and validation accuracy:  0.9640221402214022\n",
            "epoch number  3 training accuracy:  0.9969259145404242  and validation accuracy:  0.9833948339483395\n",
            "epoch number  4 training accuracy:  0.9981555487242545  and validation accuracy:  0.9861623616236163\n",
            "epoch number  5 training accuracy:  0.9958499846295727  and validation accuracy:  0.9764760147601476\n"
          ],
          "name": "stdout"
        },
        {
          "output_type": "display_data",
          "data": {
            "image/png": "[encoded data removed]",
            "text/plain": [
              "<Figure size 432x288 with 1 Axes>"
            ]
          },
          "metadata": {
            "tags": [],
            "needs_background": "light"
          }
        },
        {
          "output_type": "display_data",
          "data": {
            "image/png": "[encoded data removed]",
            "text/plain": [
              "<Figure size 432x288 with 1 Axes>"
            ]
          },
          "metadata": {
            "tags": [],
            "needs_background": "light"
          }
        },
        {
          "output_type": "stream",
          "text": [
            "Final Training Accuracy: 0.9958499846295727\n",
            "Final Validation Accuracy: 0.9764760147601476\n"
          ],
          "name": "stdout"
        }
      ]
    },
    {
      "cell_type": "code",
      "metadata": {
        "colab": {
          "base_uri": "https://localhost:8080/"
        },
        "id": "szbloSP1hLkH",
        "outputId": "40663014-9c91-4256-a376-4ed77c52b34f"
      },
      "source": [
        "print(\"Final test accuracy of the ResNet model is:\", get_accuracy(resnet_model, test_loader))"
      ],
      "execution_count": null,
      "outputs": [
        {
          "output_type": "stream",
          "text": [
            "Final test accuracy of the ResNet model is: 0.9723502304147466\n"
          ],
          "name": "stdout"
        }
      ]
    },
    {
      "cell_type": "code",
      "metadata": {
        "colab": {
          "base_uri": "https://localhost:8080/"
        },
        "id": "CA6pJQLCEpUO",
        "outputId": "045f9533-aac0-48d8-c267-d185c285a682"
      },
      "source": [
        "F1_score(resnet_model, test_loader)"
      ],
      "execution_count": null,
      "outputs": [
        {
          "output_type": "stream",
          "text": [
            "True positive: 712\n",
            "False positive: 20\n",
            "False negative: 14\n",
            "True negative: 1424\n",
            "\n",
            "Recall: 0.9807162534435262\n",
            "Precision: 0.9726775956284153\n",
            "F1 Score: 0.9766803840877916\n"
          ],
          "name": "stdout"
        }
      ]
    },
    {
      "cell_type": "markdown",
      "metadata": {
        "id": "7h0P4VXZG-3g"
      },
      "source": [
        "##COVID-Net##"
      ]
    },
    {
      "cell_type": "markdown",
      "metadata": {
        "id": "e9Oe8Gbrw4_Y"
      },
      "source": [
        "source:https://www.kaggle.com/hraouak/covid-radiography-acc-99"
      ]
    },
    {
      "cell_type": "code",
      "metadata": {
        "id": "vKzWYuyQHIV_"
      },
      "source": [
        "import numpy as np\n",
        "import os\n",
        "import pathlib\n",
        "import skimage.io as io\n",
        "import skimage.transform as tf\n",
        "import skimage.exposure as ex\n",
        "import skimage.color as color\n",
        "import torch \n",
        "import torch.nn as nn \n",
        "import torch.optim as optim"
      ],
      "execution_count": null,
      "outputs": []
    },
    {
      "cell_type": "code",
      "metadata": {
        "id": "TOwWyV7pn0Ng"
      },
      "source": [
        "# Define CNN \n",
        "class conv_layer(nn.Module):\n",
        "\n",
        "    def __init__(self, in_features, out_features):\n",
        "        super(conv_layer, self).__init__()\n",
        "        self.conv = nn.Conv2d(in_features, out_features, kernel_size=3, stride=1, padding=1)\n",
        "        self.relu = nn.ReLU()\n",
        "        self.norm = nn.BatchNorm2d(out_features)\n",
        "        self.pool = nn.MaxPool2d(kernel_size=2, stride=2)\n",
        "\n",
        "\n",
        "    def forward(self, X: torch.Tensor) -> torch.Tensor:\n",
        "        X = self.conv(X)\n",
        "        X = self.relu(X)\n",
        "        X = self.norm(X)\n",
        "        X = self.pool(X)\n",
        "        return X\n",
        "\n",
        "\n",
        "class Network(nn.Module):\n",
        "\n",
        "    def __init__(self):\n",
        "        super(Network, self).__init__()\n",
        "        self.input_norm = nn.BatchNorm2d(3, affine=False)\n",
        "        self.layer1 = conv_layer(in_features=3, out_features=8)\n",
        "        self.layer2 = conv_layer(in_features=8, out_features=16)\n",
        "        self.layer3 = conv_layer(in_features=16, out_features=32)\n",
        "        self.layer4 = conv_layer(in_features=32, out_features=64)\n",
        "        self.layer5 = conv_layer(in_features=64, out_features=128)\n",
        "        self.layer6 = conv_layer(in_features=128, out_features=256)\n",
        "        \n",
        "        \n",
        "\n",
        "        self.net = nn.Sequential(self.layer1, self.layer2, self.layer3, \n",
        "                                       self.layer4, self.layer5, self.layer6)\n",
        "            \n",
        "        \n",
        "        self.fc1 = nn.Linear(in_features=256, out_features=128)\n",
        "        self.bn1 = nn.BatchNorm1d(128)\n",
        "        \n",
        "        self.fc2 = nn.Linear(in_features=128, out_features=32)\n",
        "        self.bn2 = nn.BatchNorm1d(32)\n",
        "\n",
        "        self.fc3 = nn.Linear(in_features=32, out_features=8)\n",
        "        self.bn3 = nn.BatchNorm1d(8)\n",
        "\n",
        "        self.fc4 = nn.Linear(in_features=8, out_features=4)\n",
        "\n",
        "\n",
        "        self.lin = nn.Sequential(self.fc1, self.bn1, self.fc2, self.bn2,\n",
        "                                       self.fc3, self.bn3, self.fc4)  \n",
        "\n",
        "\n",
        "    def forward(self, X: torch.Tensor) -> torch.Tensor:\n",
        "        X = self.input_norm(X)\n",
        "        X = self.net(X)\n",
        "        X = X.reshape(X.size(0), -1)\n",
        "        X = self.lin(X)\n",
        "        X = F.elu(X, alpha=1.0, inplace=False)\n",
        "        return X"
      ],
      "execution_count": null,
      "outputs": []
    },
    {
      "cell_type": "code",
      "metadata": {
        "id": "69R-SnWzhQBa"
      },
      "source": [
        "def cov_train(model, train_loader, val_loader, batch_size=256, \n",
        "              learning_rate=0.05, num_epochs=20): \n",
        "  \n",
        "  torch.manual_seed(1000)\n",
        "  \n",
        "  #################################################################\n",
        "  criterion = nn.CrossEntropyLoss()\n",
        "  optimizer = optim.Adam(model.parameters(), lr=learning_rate)\n",
        "  iters, losses, train_acc, val_acc = [], [], [], []\n",
        "  ##############################################################\n",
        "  # training \n",
        "  n = 0 \n",
        "\n",
        "  for epoch in range(num_epochs):\n",
        "    for imgs, labels in iter(train_loader): \n",
        "      #############################################\n",
        "      #To Enable GPU Usage\n",
        "      \n",
        "      if use_cuda and torch.cuda.is_available():\n",
        "        imgs = imgs.cuda()\n",
        "        labels = labels.cuda()\n",
        "      #############################################\n",
        "      out = model(imgs)                       # forward pass \n",
        "      loss = criterion(out, labels)           # compute the total loss \n",
        "      #loss.backward()\n",
        "      optimizer.step()                        # backward pass (compute para. update) \n",
        "      optimizer.zero_grad()                   # a clean up step for PyTorch \n",
        "      \n",
        "    ##############################################################\n",
        "    # save the current training info. \n",
        "    iters.append(n)\n",
        "    losses.append(float(loss)/batch_size)\n",
        "\n",
        "    train_acc.append(get_accuracy(model, train_loader))\n",
        "\n",
        "    val_acc.append(get_accuracy(model, val_loader))\n",
        "    print(\"epoch number \", epoch+1, \"training accuracy: \",train_acc[epoch] , \" and validation accuracy: \",val_acc[epoch])\n",
        "    n+=1\n",
        "  \n",
        "  # plotting \n",
        "  plt.title ('Training Curve')\n",
        "  plt.plot(iters, losses, label='Train')\n",
        "  plt.xlabel('Iterations')\n",
        "  plt.ylabel('Loss')\n",
        "  plt.show()\n",
        "\n",
        "  plt.title(\"Training Curve\")\n",
        "  plt.plot(iters, train_acc, label='Train')\n",
        "  plt.plot(iters, val_acc, label='Validation')\n",
        "  plt.xlabel('Iterations')\n",
        "  plt.ylabel('Training Accuracy')\n",
        "  plt.legend(loc='best')\n",
        "  plt.show() \n",
        "  \n",
        "  print(\"Final Training Accuracy: {}\".format(train_acc[-1]))\n",
        "  print('Final Validation Accuracy: {}'.format(val_acc[-1]))"
      ],
      "execution_count": null,
      "outputs": []
    },
    {
      "cell_type": "code",
      "metadata": {
        "colab": {
          "base_uri": "https://localhost:8080/"
        },
        "id": "Yy8JN5c3ieO4",
        "outputId": "1e645127-e807-4afd-abb7-bf1adbdbb75d"
      },
      "source": [
        "Covid_Net2 = Network()\n",
        "\n",
        "if use_cuda and torch.cuda.is_available():\n",
        "    Covid_Net2.cuda()\n",
        "    print('CUDA is available!  Training on GPU ...')"
      ],
      "execution_count": null,
      "outputs": [
        {
          "output_type": "stream",
          "text": [
            "CUDA is available!  Training on GPU ...\n"
          ],
          "name": "stdout"
        }
      ]
    },
    {
      "cell_type": "code",
      "metadata": {
        "id": "ddCFBcJWpS-J",
        "colab": {
          "base_uri": "https://localhost:8080/",
          "height": 850
        },
        "outputId": "8c710678-3f4b-489d-8da1-ad794f433b4a"
      },
      "source": [
        "# DON'T RUN AGAIN\n",
        "'''\n",
        "Covid_Net = Network()\n",
        "\n",
        "if use_cuda and torch.cuda.is_available():\n",
        "    Covid_Net.cuda()\n",
        "    print('CUDA is available!  Training on GPU ...')\n",
        "\n",
        "cov_train (Covid_Net,train_loader,val_loader,learning_rate=0.001,\n",
        "           num_epochs=10)"
      ],
      "execution_count": null,
      "outputs": [
        {
          "output_type": "stream",
          "text": [
            "CUDA is available!  Training on GPU ...\n"
          ],
          "name": "stdout"
        },
        {
          "output_type": "stream",
          "text": [
            "/usr/local/lib/python3.7/dist-packages/torch/nn/functional.py:718: UserWarning: Named tensors and all their associated APIs are an experimental feature and subject to change. Please do not use them for anything important until they are released as stable. (Triggered internally at  /pytorch/c10/core/TensorImpl.h:1156.)\n",
            "  return torch.max_pool2d(input, kernel_size, stride, padding, dilation, ceil_mode)\n"
          ],
          "name": "stderr"
        },
        {
          "output_type": "stream",
          "text": [
            "epoch number  1 training accuracy:  0.2485398094067015  and validation accuracy:  0.246309963099631\n",
            "epoch number  2 training accuracy:  0.2400860743928681  and validation accuracy:  0.24861623616236161\n",
            "epoch number  3 training accuracy:  0.24500461112818936  and validation accuracy:  0.24861623616236161\n",
            "epoch number  4 training accuracy:  0.24654165385797724  and validation accuracy:  0.24169741697416974\n",
            "epoch number  5 training accuracy:  0.24746387949585  and validation accuracy:  0.23939114391143912\n",
            "epoch number  6 training accuracy:  0.24807869658776513  and validation accuracy:  0.24769372693726938\n",
            "epoch number  7 training accuracy:  0.24777128804180756  and validation accuracy:  0.246309963099631\n",
            "epoch number  8 training accuracy:  0.24592683676606208  and validation accuracy:  0.25\n",
            "epoch number  9 training accuracy:  0.2499231478635106  and validation accuracy:  0.2467712177121771\n",
            "epoch number  10 training accuracy:  0.2473101752228712  and validation accuracy:  0.24953874538745388\n"
          ],
          "name": "stdout"
        },
        {
          "output_type": "display_data",
          "data": {
            "image/png": "[encoded data removed]",
            "text/plain": [
              "<Figure size 432x288 with 1 Axes>"
            ]
          },
          "metadata": {
            "tags": [],
            "needs_background": "light"
          }
        },
        {
          "output_type": "display_data",
          "data": {
            "image/png": "[encoded data removed]",
            "text/plain": [
              "<Figure size 432x288 with 1 Axes>"
            ]
          },
          "metadata": {
            "tags": [],
            "needs_background": "light"
          }
        },
        {
          "output_type": "stream",
          "text": [
            "Final Training Accuracy: 0.2473101752228712\n",
            "Final Validation Accuracy: 0.24953874538745388\n"
          ],
          "name": "stdout"
        }
      ]
    },
    {
      "cell_type": "code",
      "metadata": {
        "colab": {
          "base_uri": "https://localhost:8080/"
        },
        "id": "MZ0dzZ541wV9",
        "outputId": "c7c4b5d4-9bc3-4984-bd6c-8e1e044cfe95"
      },
      "source": [
        "print(\"Final test accuracy of the Covid_Net model is:\", get_accuracy(Covid_Net, test_loader))"
      ],
      "execution_count": null,
      "outputs": [
        {
          "output_type": "stream",
          "text": [
            "Final test accuracy of the Covid_Net model is: 0.2465437788018433\n"
          ],
          "name": "stdout"
        }
      ]
    },
    {
      "cell_type": "code",
      "metadata": {
        "id": "nFPLev8Q1w3B",
        "colab": {
          "base_uri": "https://localhost:8080/"
        },
        "outputId": "600ceae2-7e98-4232-b920-c60e0523ee4f"
      },
      "source": [
        "F1_score(Covid_Net, test_loader)"
      ],
      "execution_count": null,
      "outputs": [
        {
          "output_type": "stream",
          "text": [
            "True positive: 161\n",
            "False positive: 414\n",
            "False negative: 565\n",
            "True negative: 1030\n",
            "\n",
            "Recall: 0.22176308539944903\n",
            "Precision: 0.28\n",
            "F1 Score: 0.24750192159877019\n"
          ],
          "name": "stdout"
        }
      ]
    },
    {
      "cell_type": "code",
      "metadata": {
        "colab": {
          "base_uri": "https://localhost:8080/"
        },
        "id": "Fi1vtUs7QyR2",
        "outputId": "795bd4e1-adf5-4e8c-a716-692007ecfd70"
      },
      "source": [
        "# Tuning\n",
        "\n",
        "Covid_Net2 = Network()\n",
        "\n",
        "if use_cuda and torch.cuda.is_available():\n",
        "    Covid_Net2.cuda()\n",
        "    print('CUDA is available!  Training on GPU ...')\n",
        "\n",
        "cov_train (Covid_Net2,train_loader,val_loader,batch_size=32,\n",
        "           learning_rate=0.001,num_epochs=40)"
      ],
      "execution_count": null,
      "outputs": [
        {
          "output_type": "stream",
          "text": [
            "CUDA is available!  Training on GPU ...\n"
          ],
          "name": "stdout"
        },
        {
          "output_type": "stream",
          "text": [
            "/usr/local/lib/python3.7/dist-packages/torch/nn/functional.py:718: UserWarning: Named tensors and all their associated APIs are an experimental feature and subject to change. Please do not use them for anything important until they are released as stable. (Triggered internally at  /pytorch/c10/core/TensorImpl.h:1156.)\n",
            "  return torch.max_pool2d(input, kernel_size, stride, padding, dilation, ceil_mode)\n"
          ],
          "name": "stderr"
        },
        {
          "output_type": "stream",
          "text": [
            "epoch number  1 training accuracy:  0.24930833077159545  and validation accuracy:  0.24584870848708487\n",
            "epoch number  2 training accuracy:  0.2460805410390409  and validation accuracy:  0.24723247232472326\n",
            "epoch number  3 training accuracy:  0.2485398094067015  and validation accuracy:  0.24354243542435425\n",
            "epoch number  4 training accuracy:  0.24638794958499846  and validation accuracy:  0.246309963099631\n",
            "epoch number  5 training accuracy:  0.24915462649861667  and validation accuracy:  0.24400369003690037\n",
            "epoch number  6 training accuracy:  0.2486935136796803  and validation accuracy:  0.24584870848708487\n",
            "epoch number  7 training accuracy:  0.24700276667691362  and validation accuracy:  0.24861623616236161\n",
            "epoch number  8 training accuracy:  0.2486935136796803  and validation accuracy:  0.2467712177121771\n",
            "epoch number  9 training accuracy:  0.25192130341223484  and validation accuracy:  0.2370848708487085\n",
            "epoch number  10 training accuracy:  0.24961573931755301  and validation accuracy:  0.24584870848708487\n",
            "epoch number  11 training accuracy:  0.24638794958499846  and validation accuracy:  0.25046125461254615\n",
            "epoch number  12 training accuracy:  0.2499231478635106  and validation accuracy:  0.246309963099631\n",
            "epoch number  13 training accuracy:  0.24777128804180756  and validation accuracy:  0.24584870848708487\n",
            "epoch number  14 training accuracy:  0.25222871195819246  and validation accuracy:  0.25322878228782286\n",
            "epoch number  15 training accuracy:  0.25176759913925606  and validation accuracy:  0.24723247232472326\n",
            "epoch number  16 training accuracy:  0.2471564709498924  and validation accuracy:  0.24769372693726938\n",
            "epoch number  17 training accuracy:  0.24976944359053183  and validation accuracy:  0.24723247232472326\n",
            "epoch number  18 training accuracy:  0.24838610513372272  and validation accuracy:  0.24215867158671586\n",
            "epoch number  19 training accuracy:  0.24884721795265907  and validation accuracy:  0.24584870848708487\n",
            "epoch number  20 training accuracy:  0.24669535813095603  and validation accuracy:  0.24861623616236161\n",
            "epoch number  21 training accuracy:  0.24777128804180756  and validation accuracy:  0.24492619926199263\n",
            "epoch number  22 training accuracy:  0.24377497694435904  and validation accuracy:  0.24492619926199263\n",
            "epoch number  23 training accuracy:  0.25053796495542574  and validation accuracy:  0.24354243542435425\n",
            "epoch number  24 training accuracy:  0.2460805410390409  and validation accuracy:  0.2467712177121771\n",
            "epoch number  25 training accuracy:  0.2485398094067015  and validation accuracy:  0.2444649446494465\n",
            "epoch number  26 training accuracy:  0.24807869658776513  and validation accuracy:  0.24492619926199263\n",
            "epoch number  27 training accuracy:  0.24654165385797724  and validation accuracy:  0.25046125461254615\n",
            "epoch number  28 training accuracy:  0.24930833077159545  and validation accuracy:  0.2518450184501845\n",
            "epoch number  29 training accuracy:  0.2499231478635106  and validation accuracy:  0.2444649446494465\n",
            "epoch number  30 training accuracy:  0.24761758376882878  and validation accuracy:  0.24031365313653136\n",
            "epoch number  31 training accuracy:  0.24592683676606208  and validation accuracy:  0.24215867158671586\n",
            "epoch number  32 training accuracy:  0.2499231478635106  and validation accuracy:  0.2481549815498155\n",
            "epoch number  33 training accuracy:  0.24531201967414695  and validation accuracy:  0.24169741697416974\n",
            "epoch number  34 training accuracy:  0.24700276667691362  and validation accuracy:  0.24861623616236161\n",
            "epoch number  35 training accuracy:  0.25453427605287426  and validation accuracy:  0.24723247232472326\n",
            "epoch number  36 training accuracy:  0.24961573931755301  and validation accuracy:  0.24584870848708487\n",
            "epoch number  37 training accuracy:  0.24976944359053183  and validation accuracy:  0.25046125461254615\n",
            "epoch number  38 training accuracy:  0.24930833077159545  and validation accuracy:  0.2481549815498155\n",
            "epoch number  39 training accuracy:  0.24515831540116814  and validation accuracy:  0.24308118081180813\n",
            "epoch number  40 training accuracy:  0.2499231478635106  and validation accuracy:  0.24584870848708487\n"
          ],
          "name": "stdout"
        },
        {
          "output_type": "display_data",
          "data": {
            "image/png": "[encoded data removed]",
            "text/plain": [
              "<Figure size 432x288 with 1 Axes>"
            ]
          },
          "metadata": {
            "tags": [],
            "needs_background": "light"
          }
        },
        {
          "output_type": "display_data",
          "data": {
            "image/png": "[encoded data removed]",
            "text/plain": [
              "<Figure size 432x288 with 1 Axes>"
            ]
          },
          "metadata": {
            "tags": [],
            "needs_background": "light"
          }
        },
        {
          "output_type": "stream",
          "text": [
            "Final Training Accuracy: 0.2499231478635106\n",
            "Final Validation Accuracy: 0.24584870848708487\n"
          ],
          "name": "stdout"
        }
      ]
    },
    {
      "cell_type": "markdown",
      "metadata": {
        "id": "jArfG7TV0e9u"
      },
      "source": [
        "##Demonstration##\n",
        "To demonstrate all models built in this project, we have three CXR images (one from each class) that have never been tested/used in the training process before. \n",
        "\n",
        "In this section, we pass in the three images into all built models and visualize the prediction from the models on these three images. "
      ]
    },
    {
      "cell_type": "code",
      "metadata": {
        "id": "PB5zIuUpNEjv"
      },
      "source": [
        "demon_dir = '/content/drive/MyDrive/APS360/APS360 Project/Demonstration' \n",
        "im_transforms = transforms.Compose([transforms.Resize(224), transforms.ToTensor()])\n",
        "dataset = datasets.ImageFolder(demon_dir, transform=im_transforms)\n",
        "batch_size = 216\n",
        "demon_loader = torch.utils.data.DataLoader(dataset, batch_size=batch_size)"
      ],
      "execution_count": null,
      "outputs": []
    },
    {
      "cell_type": "code",
      "metadata": {
        "id": "p2t4Ls3Jrhym",
        "colab": {
          "base_uri": "https://localhost:8080/",
          "height": 239
        },
        "outputId": "3cf7eca9-6fb9-4ff4-c9b9-55813d6d8d73"
      },
      "source": [
        "# Demonstrate the Baseline model \n",
        "pred = [] \n",
        "for image, label in demon_loader: \n",
        "  pred.append(F.softmax(Baseline_model(image.cuda())).tolist())\n",
        "\n",
        "# obtain one batch of training images\n",
        "dataiter = iter(demon_loader)\n",
        "images, labels = dataiter.next()\n",
        "images = images.numpy() # convert images to numpy for display\n",
        "\n",
        "classes = [\"COVID\", \"Normal\", \"Viral Pneumonia\"]\n",
        "\n",
        "# plot the images in the batch, along with the corresponding labels\n",
        "fig = plt.figure(figsize=(11, 9))\n",
        "for idx in range(len(images)):\n",
        "    ax = fig.add_subplot(4, 20/6.5, idx+1, xticks=[], yticks=[])\n",
        "    plt.imshow(np.transpose(images[idx], (1, 2, 0)))\n",
        "    ax.set_title(\"Label: \" + classes[labels[idx]])\n",
        "    ax.set_xlabel(\"Pred: \" + classes[pred[0][idx].index(max(pred[0][idx]))] \n",
        "                  + \"\\nConfidence: %2.2f\" % (max(pred[0][idx]) * 100) + \"%\", fontsize=13)\n",
        "    \"\"\"\n",
        "    for cls in range (len(classes)):\n",
        "      print(classes[cls] +\" probability: \" + str(round(pred[0][idx][cls], 5)))\n",
        "    \"\"\""
      ],
      "execution_count": null,
      "outputs": [
        {
          "output_type": "stream",
          "text": [
            "/usr/local/lib/python3.7/dist-packages/ipykernel_launcher.py:4: UserWarning: Implicit dimension choice for softmax has been deprecated. Change the call to include dim=X as an argument.\n",
            "  after removing the cwd from sys.path.\n"
          ],
          "name": "stderr"
        },
        {
          "output_type": "display_data",
          "data": {
            "image/png": "[encoded data removed]",
            "text/plain": [
              "<Figure size 792x648 with 3 Axes>"
            ]
          },
          "metadata": {
            "tags": []
          }
        }
      ]
    },
    {
      "cell_type": "code",
      "metadata": {
        "id": "eFdggspx3mKl",
        "colab": {
          "base_uri": "https://localhost:8080/",
          "height": 170
        },
        "outputId": "47658755-9893-44b9-efd2-3fd17e88b0c7"
      },
      "source": [
        "# Demonstrate the primary AlexNet model \n",
        "alex_demon_dir = '/content/drive/MyDrive/APS360/APS360 Project/AlexNet Demon Features/'\n",
        "alex_demon_loader = torch.utils.data.DataLoader(dataset, batch_size=1)\n",
        "\n",
        "# Compute features for the demonstration images \n",
        "n = 0 \n",
        "for img, label in iter(alex_demon_loader): \n",
        "  if use_cuda and torch.cuda.is_available():\n",
        "    features = alexnet.features(img).cuda()\n",
        "    features_tensor = torch.from_numpy(features.cpu().detach().numpy())\n",
        "  else: \n",
        "    features = alexnet.features(img)\n",
        "    features_tensor = torch.from_numpy(features.detach().numpy())\n",
        "  \n",
        "  folder_dir = alex_demon_dir + str(classes[label])\n",
        "  if not os.path.isdir(folder_dir):\n",
        "    os.mkdir(folder_dir)\n",
        "  torch.save(features_tensor.squeeze(0), folder_dir + '/' + str(n) + '.tensor')\n",
        "  n += 1\n",
        "\n",
        "# Reload the computed features \n",
        "alex_demon_features = torchvision.datasets.DatasetFolder(\n",
        "    alex_demon_dir, loader=torch.load, extensions=('.tensor'))\n",
        "alex_demon_features_loader = torch.utils.data.DataLoader(alex_demon_features, \n",
        "                                                         batch_size=batch_size)\n",
        "\n",
        "pred = [] \n",
        "for image, label in alex_demon_features_loader: \n",
        "  pred.append(alex_model(image.cuda()).max(1, keepdim=True)[1].tolist())\n",
        "\n",
        "# obtain one batch of training images\n",
        "dataiter = iter(demon_loader)\n",
        "images, labels = dataiter.next()\n",
        "images = images.numpy() # convert images to numpy for display\n",
        "\n",
        "classes = [\"COVID\", \"Normal\", \"Viral Pneumonia\"]\n",
        "\n",
        "# plot the images in the batch, along with the corresponding labels\n",
        "fig = plt.figure(figsize=(11, 9))\n",
        "for idx in range(len(images)):\n",
        "    ax = fig.add_subplot(4, 20/4, idx+1, xticks=[], yticks=[])\n",
        "    plt.imshow(np.transpose(images[idx], (1, 2, 0)))\n",
        "    ax.set_title(\"Label: \" + classes[labels[idx]])\n",
        "    \n",
        "    ax.set_xlabel(\"Pred: \" + classes[pred[0][idx][0]], fontsize=13)"
      ],
      "execution_count": null,
      "outputs": [
        {
          "output_type": "display_data",
          "data": {
            "image/png": "[encoded data removed]",
            "text/plain": [
              "<Figure size 792x648 with 3 Axes>"
            ]
          },
          "metadata": {
            "tags": []
          }
        }
      ]
    },
    {
      "cell_type": "code",
      "metadata": {
        "id": "ufBji-hh3vzD",
        "colab": {
          "base_uri": "https://localhost:8080/",
          "height": 170
        },
        "outputId": "51abc318-82d2-4f7e-bd00-1fdb5c7fd781"
      },
      "source": [
        "# Demonstrate the GoogLeNet model \n",
        "pred = [] \n",
        "for image, label in demon_loader: \n",
        "  pred.append(G_model(image.cuda()).max(1, keepdim=True)[1].tolist())\n",
        "\n",
        "# obtain one batch of training images\n",
        "dataiter = iter(demon_loader)\n",
        "images, labels = dataiter.next()\n",
        "images = images.numpy() # convert images to numpy for display\n",
        "\n",
        "classes = [\"COVID\", \"Normal\", \"Viral Pneumonia\"]\n",
        "\n",
        "# plot the images in the batch, along with the corresponding labels\n",
        "fig = plt.figure(figsize=(11, 9))\n",
        "for idx in range(len(images)):\n",
        "    ax = fig.add_subplot(4, 20/4, idx+1, xticks=[], yticks=[])\n",
        "    plt.imshow(np.transpose(images[idx], (1, 2, 0)))\n",
        "    ax.set_title(\"Label: \" + classes[labels[idx]])\n",
        "    ax.set_xlabel(\"Pred: \" + classes[pred[0][idx][0]], fontsize=13)"
      ],
      "execution_count": null,
      "outputs": [
        {
          "output_type": "display_data",
          "data": {
            "image/png": "[encoded data removed]",
            "text/plain": [
              "<Figure size 792x648 with 3 Axes>"
            ]
          },
          "metadata": {
            "tags": []
          }
        }
      ]
    },
    {
      "cell_type": "code",
      "metadata": {
        "id": "phJwbdD84B1c"
      },
      "source": [
        "# Demonstrate the VGG model \n",
        "pred = [] \n",
        "for image, label in demon_loader: \n",
        "  #pred.append(xxx_model(image.cuda()).max(1, keepdim=True)[1].tolist())\n",
        "\n",
        "# obtain one batch of training images\n",
        "dataiter = iter(demon_loader)\n",
        "images, labels = dataiter.next()\n",
        "images = images.numpy() # convert images to numpy for display\n",
        "\n",
        "classes = [\"COVID\", \"Normal\", \"Viral Pneumonia\"]\n",
        "\n",
        "# plot the images in the batch, along with the corresponding labels\n",
        "fig = plt.figure(figsize=(11, 9))\n",
        "for idx in range(len(images)):\n",
        "    ax = fig.add_subplot(4, 20/4, idx+1, xticks=[], yticks=[])\n",
        "    plt.imshow(np.transpose(images[idx], (1, 2, 0)))\n",
        "    ax.set_title(\"Label: \" + classes[labels[idx]])\n",
        "    ax.set_xlabel(\"Pred: \" + classes[pred[0][idx][0]], fontsize=13)"
      ],
      "execution_count": null,
      "outputs": []
    },
    {
      "cell_type": "code",
      "metadata": {
        "id": "WDB1VFFI36vD",
        "colab": {
          "base_uri": "https://localhost:8080/",
          "height": 250
        },
        "outputId": "56ae9dd2-a17c-4dcd-e707-722f451a04e5"
      },
      "source": [
        "# Demonstrate the ResNet model \n",
        "pred = [] \n",
        "for image, label in demon_loader: \n",
        "  pred.append(resnet_model(image.cuda()).max(1, keepdim=True)[1].tolist())\n",
        "\n",
        "# obtain one batch of training images\n",
        "dataiter = iter(demon_loader)\n",
        "images, labels = dataiter.next()\n",
        "images = images.numpy() # convert images to numpy for display\n",
        "\n",
        "classes = [\"COVID\", \"Normal\", \"Viral Pneumonia\"]\n",
        "\n",
        "# plot the images in the batch, along with the corresponding labels\n",
        "fig = plt.figure(figsize=(11, 9))\n",
        "for idx in range(len(images)):\n",
        "    ax = fig.add_subplot(4, 20/4, idx+1, xticks=[], yticks=[])\n",
        "    plt.imshow(np.transpose(images[idx], (1, 2, 0)))\n",
        "    ax.set_title(\"Label: \" + classes[labels[idx]])\n",
        "    ax.set_xlabel(\"Pred: \" + classes[pred[0][idx][0]], fontsize=13)"
      ],
      "execution_count": null,
      "outputs": [
        {
          "output_type": "error",
          "ename": "NameError",
          "evalue": "ignored",
          "traceback": [
            "\u001b[0;31m---------------------------------------------------------------------------\u001b[0m",
            "\u001b[0;31mNameError\u001b[0m                                 Traceback (most recent call last)",
            "\u001b[0;32m<ipython-input-22-4a5d3e25b428>\u001b[0m in \u001b[0;36m<module>\u001b[0;34m()\u001b[0m\n\u001b[1;32m      2\u001b[0m \u001b[0mpred\u001b[0m \u001b[0;34m=\u001b[0m \u001b[0;34m[\u001b[0m\u001b[0;34m]\u001b[0m\u001b[0;34m\u001b[0m\u001b[0;34m\u001b[0m\u001b[0m\n\u001b[1;32m      3\u001b[0m \u001b[0;32mfor\u001b[0m \u001b[0mimage\u001b[0m\u001b[0;34m,\u001b[0m \u001b[0mlabel\u001b[0m \u001b[0;32min\u001b[0m \u001b[0mdemon_loader\u001b[0m\u001b[0;34m:\u001b[0m\u001b[0;34m\u001b[0m\u001b[0;34m\u001b[0m\u001b[0m\n\u001b[0;32m----> 4\u001b[0;31m   \u001b[0mpred\u001b[0m\u001b[0;34m.\u001b[0m\u001b[0mappend\u001b[0m\u001b[0;34m(\u001b[0m\u001b[0mresnet_model\u001b[0m\u001b[0;34m(\u001b[0m\u001b[0mimage\u001b[0m\u001b[0;34m.\u001b[0m\u001b[0mcuda\u001b[0m\u001b[0;34m(\u001b[0m\u001b[0;34m)\u001b[0m\u001b[0;34m)\u001b[0m\u001b[0;34m.\u001b[0m\u001b[0mmax\u001b[0m\u001b[0;34m(\u001b[0m\u001b[0;36m1\u001b[0m\u001b[0;34m,\u001b[0m \u001b[0mkeepdim\u001b[0m\u001b[0;34m=\u001b[0m\u001b[0;32mTrue\u001b[0m\u001b[0;34m)\u001b[0m\u001b[0;34m[\u001b[0m\u001b[0;36m1\u001b[0m\u001b[0;34m]\u001b[0m\u001b[0;34m.\u001b[0m\u001b[0mtolist\u001b[0m\u001b[0;34m(\u001b[0m\u001b[0;34m)\u001b[0m\u001b[0;34m)\u001b[0m\u001b[0;34m\u001b[0m\u001b[0;34m\u001b[0m\u001b[0m\n\u001b[0m\u001b[1;32m      5\u001b[0m \u001b[0;34m\u001b[0m\u001b[0m\n\u001b[1;32m      6\u001b[0m \u001b[0;31m# obtain one batch of training images\u001b[0m\u001b[0;34m\u001b[0m\u001b[0;34m\u001b[0m\u001b[0;34m\u001b[0m\u001b[0m\n",
            "\u001b[0;31mNameError\u001b[0m: name 'resnet_model' is not defined"
          ]
        }
      ]
    },
    {
      "cell_type": "code",
      "metadata": {
        "id": "BuqORMn24I5W",
        "colab": {
          "base_uri": "https://localhost:8080/",
          "height": 337
        },
        "outputId": "0c723921-b85c-49f0-af0b-b97a93267fbb"
      },
      "source": [
        "# Demonstrate the COVIDNet model \n",
        "pred = [] \n",
        "for image, label in demon_loader: \n",
        "  pred.append(Covid_Net2(image.cuda()).max(1, keepdim=True)[1].tolist())\n",
        "\n",
        "# obtain one batch of training images\n",
        "dataiter = iter(demon_loader)\n",
        "images, labels = dataiter.next()\n",
        "images = images.numpy() # convert images to numpy for display\n",
        "\n",
        "classes = [\"COVID\", \"Normal\", \"Viral Pneumonia\"]\n",
        "\n",
        "# plot the images in the batch, along with the corresponding labels\n",
        "fig = plt.figure(figsize=(11, 9))\n",
        "for idx in range(len(images)):\n",
        "    ax = fig.add_subplot(4, 20/4, idx+1, xticks=[], yticks=[])\n",
        "    plt.imshow(np.transpose(images[idx], (1, 2, 0)))\n",
        "    ax.set_title(\"Label: \" + classes[labels[idx]])\n",
        "    ax.set_xlabel(\"Pred: \" + classes[pred[0][idx][0]], fontsize=13)"
      ],
      "execution_count": null,
      "outputs": [
        {
          "output_type": "error",
          "ename": "IndexError",
          "evalue": "ignored",
          "traceback": [
            "\u001b[0;31m---------------------------------------------------------------------------\u001b[0m",
            "\u001b[0;31mIndexError\u001b[0m                                Traceback (most recent call last)",
            "\u001b[0;32m<ipython-input-23-b0edc48905c3>\u001b[0m in \u001b[0;36m<module>\u001b[0;34m()\u001b[0m\n\u001b[1;32m     17\u001b[0m     \u001b[0mplt\u001b[0m\u001b[0;34m.\u001b[0m\u001b[0mimshow\u001b[0m\u001b[0;34m(\u001b[0m\u001b[0mnp\u001b[0m\u001b[0;34m.\u001b[0m\u001b[0mtranspose\u001b[0m\u001b[0;34m(\u001b[0m\u001b[0mimages\u001b[0m\u001b[0;34m[\u001b[0m\u001b[0midx\u001b[0m\u001b[0;34m]\u001b[0m\u001b[0;34m,\u001b[0m \u001b[0;34m(\u001b[0m\u001b[0;36m1\u001b[0m\u001b[0;34m,\u001b[0m \u001b[0;36m2\u001b[0m\u001b[0;34m,\u001b[0m \u001b[0;36m0\u001b[0m\u001b[0;34m)\u001b[0m\u001b[0;34m)\u001b[0m\u001b[0;34m)\u001b[0m\u001b[0;34m\u001b[0m\u001b[0;34m\u001b[0m\u001b[0m\n\u001b[1;32m     18\u001b[0m     \u001b[0max\u001b[0m\u001b[0;34m.\u001b[0m\u001b[0mset_title\u001b[0m\u001b[0;34m(\u001b[0m\u001b[0;34m\"Label: \"\u001b[0m \u001b[0;34m+\u001b[0m \u001b[0mclasses\u001b[0m\u001b[0;34m[\u001b[0m\u001b[0mlabels\u001b[0m\u001b[0;34m[\u001b[0m\u001b[0midx\u001b[0m\u001b[0;34m]\u001b[0m\u001b[0;34m]\u001b[0m\u001b[0;34m)\u001b[0m\u001b[0;34m\u001b[0m\u001b[0;34m\u001b[0m\u001b[0m\n\u001b[0;32m---> 19\u001b[0;31m     \u001b[0max\u001b[0m\u001b[0;34m.\u001b[0m\u001b[0mset_xlabel\u001b[0m\u001b[0;34m(\u001b[0m\u001b[0;34m\"Pred: \"\u001b[0m \u001b[0;34m+\u001b[0m \u001b[0mclasses\u001b[0m\u001b[0;34m[\u001b[0m\u001b[0mpred\u001b[0m\u001b[0;34m[\u001b[0m\u001b[0;36m0\u001b[0m\u001b[0;34m]\u001b[0m\u001b[0;34m[\u001b[0m\u001b[0midx\u001b[0m\u001b[0;34m]\u001b[0m\u001b[0;34m[\u001b[0m\u001b[0;36m0\u001b[0m\u001b[0;34m]\u001b[0m\u001b[0;34m]\u001b[0m\u001b[0;34m,\u001b[0m \u001b[0mfontsize\u001b[0m\u001b[0;34m=\u001b[0m\u001b[0;36m13\u001b[0m\u001b[0;34m)\u001b[0m\u001b[0;34m\u001b[0m\u001b[0;34m\u001b[0m\u001b[0m\n\u001b[0m",
            "\u001b[0;31mIndexError\u001b[0m: list index out of range"
          ]
        },
        {
          "output_type": "display_data",
          "data": {
            "image/png": "[encoded data removed]",
            "text/plain": [
              "<Figure size 792x648 with 1 Axes>"
            ]
          },
          "metadata": {
            "tags": []
          }
        }
      ]
    },
    {
      "cell_type": "code",
      "metadata": {
        "id": "SI3agD2AitJ0"
      },
      "source": [
        ""
      ],
      "execution_count": null,
      "outputs": []
    }
  ]
}